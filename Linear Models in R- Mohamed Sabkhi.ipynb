{
 "cells": [
  {
   "cell_type": "markdown",
   "id": "221383f6",
   "metadata": {},
   "source": [
    "# Machine Learning Project using R Language : House Price Prediction\n",
    "## Student : *Mohamed Sabkhi*\n",
    "### Class : *2IDSD1*\n",
    "![title](hpp.png)\n",
    "\n",
    "**Table of Content**\n",
    "1. Exploratory Data Analysis <br>\n",
    "        -Reading The data\n",
    "        -checking for Nulled values\n",
    "        -Checking Data disrtibution & looking for outliers\n",
    "        -Examining Correlations\n",
    "        \n",
    "2. Feature Extraction & Engineering\n",
    "3. First Basic Linear Model\n",
    "4. Removing Outliers\n",
    "5. "
   ]
  },
  {
   "cell_type": "code",
   "execution_count": 9,
   "id": "98b9d6b1",
   "metadata": {},
   "outputs": [
    {
     "name": "stderr",
     "output_type": "stream",
     "text": [
      "Registered S3 method overwritten by 'rvest':\n",
      "  method            from\n",
      "  read_xml.response xml2\n",
      "-- Attaching packages --------------------------------------- tidyverse 1.2.1 --\n",
      "v tibble  3.1.1     v purrr   0.3.2\n",
      "v tidyr   1.1.3     v dplyr   1.0.6\n",
      "v readr   1.3.1     v stringr 1.4.0\n",
      "v tibble  3.1.1     v forcats 0.4.0\n",
      "Warning message:\n",
      "\"package 'tibble' was built under R version 3.6.3\"Warning message:\n",
      "\"package 'tidyr' was built under R version 3.6.3\"Warning message:\n",
      "\"package 'dplyr' was built under R version 3.6.3\"-- Conflicts ------------------------------------------ tidyverse_conflicts() --\n",
      "x dplyr::filter() masks stats::filter()\n",
      "x dplyr::lag()    masks stats::lag()\n",
      "Warning message:\n",
      "\"package 'Hmisc' was built under R version 3.6.3\"Loading required package: lattice\n",
      "Loading required package: survival\n",
      "Warning message:\n",
      "\"package 'survival' was built under R version 3.6.3\"Loading required package: Formula\n",
      "Warning message:\n",
      "\"package 'Formula' was built under R version 3.6.3\"\n",
      "Attaching package: 'Hmisc'\n",
      "\n",
      "The following objects are masked from 'package:dplyr':\n",
      "\n",
      "    src, summarize\n",
      "\n",
      "The following objects are masked from 'package:base':\n",
      "\n",
      "    format.pval, units\n",
      "\n",
      "corrplot 0.90 loaded\n"
     ]
    }
   ],
   "source": [
    "#install.packages(\"Hmisc\")\n",
    "#install.packages(\"corrplot\")\n",
    "\n",
    "library(tidyverse)\n",
    "library(dplyr)\n",
    "library(Hmisc)\n",
    "library(corrplot) #for visualisation of correlation\n"
   ]
  },
  {
   "cell_type": "code",
   "execution_count": 61,
   "id": "0b35e206",
   "metadata": {},
   "outputs": [
    {
     "name": "stdout",
     "output_type": "stream",
     "text": [
      "\n",
      "  There is a binary version available but the source version is later:\n",
      "       binary source needs_compilation\n",
      "glmnet  4.1-1  4.1-3              TRUE\n",
      "\n",
      "  Binaries will be installed\n",
      "package 'glmnet' successfully unpacked and MD5 sums checked\n",
      "\n",
      "The downloaded binary packages are in\n",
      "\tC:\\Users\\medsa\\AppData\\Local\\Temp\\Rtmpa0peiW\\downloaded_packages\n"
     ]
    }
   ],
   "source": [
    "install.packages(\"glmnet\")"
   ]
  },
  {
   "cell_type": "code",
   "execution_count": 4,
   "id": "15cdbaf8",
   "metadata": {},
   "outputs": [],
   "source": [
    "#install.packages(\"ggplot2\")\n",
    "\n",
    "library(ggplot2)\n"
   ]
  },
  {
   "cell_type": "markdown",
   "id": "dbcf7212",
   "metadata": {},
   "source": [
    "## Exploratory Data Analysis\n"
   ]
  },
  {
   "cell_type": "markdown",
   "id": "e281843e",
   "metadata": {},
   "source": [
    "### Reading The Data"
   ]
  },
  {
   "cell_type": "code",
   "execution_count": 1,
   "id": "2da14999",
   "metadata": {
    "scrolled": false
   },
   "outputs": [
    {
     "data": {
      "text/html": [
       "<table>\n",
       "<thead><tr><th scope=col>id</th><th scope=col>date</th><th scope=col>price</th><th scope=col>bedrooms</th><th scope=col>bathrooms</th><th scope=col>sqft_living</th><th scope=col>sqft_lot</th><th scope=col>floors</th><th scope=col>waterfront</th><th scope=col>view</th><th scope=col>...</th><th scope=col>grade</th><th scope=col>sqft_above</th><th scope=col>sqft_basement</th><th scope=col>yr_built</th><th scope=col>yr_renovated</th><th scope=col>zipcode</th><th scope=col>lat</th><th scope=col>long</th><th scope=col>sqft_living15</th><th scope=col>sqft_lot15</th></tr></thead>\n",
       "<tbody>\n",
       "\t<tr><td>7129300520     </td><td>20141013T000000</td><td> 221900        </td><td>3              </td><td>1.00           </td><td>1180           </td><td>  5650         </td><td>1              </td><td>0              </td><td>0              </td><td>...            </td><td> 7             </td><td>1180           </td><td>   0           </td><td>1955           </td><td>   0           </td><td>98178          </td><td>47.5112        </td><td>-122.257       </td><td>1340           </td><td>  5650         </td></tr>\n",
       "\t<tr><td>6414100192     </td><td>20141209T000000</td><td> 538000        </td><td>3              </td><td>2.25           </td><td>2570           </td><td>  7242         </td><td>2              </td><td>0              </td><td>0              </td><td>...            </td><td> 7             </td><td>2170           </td><td> 400           </td><td>1951           </td><td>1991           </td><td>98125          </td><td>47.7210        </td><td>-122.319       </td><td>1690           </td><td>  7639         </td></tr>\n",
       "\t<tr><td>5631500400     </td><td>20150225T000000</td><td> 180000        </td><td>2              </td><td>1.00           </td><td> 770           </td><td> 10000         </td><td>1              </td><td>0              </td><td>0              </td><td>...            </td><td> 6             </td><td> 770           </td><td>   0           </td><td>1933           </td><td>   0           </td><td>98028          </td><td>47.7379        </td><td>-122.233       </td><td>2720           </td><td>  8062         </td></tr>\n",
       "\t<tr><td>2487200875     </td><td>20141209T000000</td><td> 604000        </td><td>4              </td><td>3.00           </td><td>1960           </td><td>  5000         </td><td>1              </td><td>0              </td><td>0              </td><td>...            </td><td> 7             </td><td>1050           </td><td> 910           </td><td>1965           </td><td>   0           </td><td>98136          </td><td>47.5208        </td><td>-122.393       </td><td>1360           </td><td>  5000         </td></tr>\n",
       "\t<tr><td>1954400510     </td><td>20150218T000000</td><td> 510000        </td><td>3              </td><td>2.00           </td><td>1680           </td><td>  8080         </td><td>1              </td><td>0              </td><td>0              </td><td>...            </td><td> 8             </td><td>1680           </td><td>   0           </td><td>1987           </td><td>   0           </td><td>98074          </td><td>47.6168        </td><td>-122.045       </td><td>1800           </td><td>  7503         </td></tr>\n",
       "\t<tr><td>7237550310     </td><td>20140512T000000</td><td>1225000        </td><td>4              </td><td>4.50           </td><td>5420           </td><td>101930         </td><td>1              </td><td>0              </td><td>0              </td><td>...            </td><td>11             </td><td>3890           </td><td>1530           </td><td>2001           </td><td>   0           </td><td>98053          </td><td>47.6561        </td><td>-122.005       </td><td>4760           </td><td>101930         </td></tr>\n",
       "</tbody>\n",
       "</table>\n"
      ],
      "text/latex": [
       "\\begin{tabular}{r|lllllllllllllllllllll}\n",
       " id & date & price & bedrooms & bathrooms & sqft\\_living & sqft\\_lot & floors & waterfront & view & ... & grade & sqft\\_above & sqft\\_basement & yr\\_built & yr\\_renovated & zipcode & lat & long & sqft\\_living15 & sqft\\_lot15\\\\\n",
       "\\hline\n",
       "\t 7129300520      & 20141013T000000 &  221900         & 3               & 1.00            & 1180            &   5650          & 1               & 0               & 0               & ...             &  7              & 1180            &    0            & 1955            &    0            & 98178           & 47.5112         & -122.257        & 1340            &   5650         \\\\\n",
       "\t 6414100192      & 20141209T000000 &  538000         & 3               & 2.25            & 2570            &   7242          & 2               & 0               & 0               & ...             &  7              & 2170            &  400            & 1951            & 1991            & 98125           & 47.7210         & -122.319        & 1690            &   7639         \\\\\n",
       "\t 5631500400      & 20150225T000000 &  180000         & 2               & 1.00            &  770            &  10000          & 1               & 0               & 0               & ...             &  6              &  770            &    0            & 1933            &    0            & 98028           & 47.7379         & -122.233        & 2720            &   8062         \\\\\n",
       "\t 2487200875      & 20141209T000000 &  604000         & 4               & 3.00            & 1960            &   5000          & 1               & 0               & 0               & ...             &  7              & 1050            &  910            & 1965            &    0            & 98136           & 47.5208         & -122.393        & 1360            &   5000         \\\\\n",
       "\t 1954400510      & 20150218T000000 &  510000         & 3               & 2.00            & 1680            &   8080          & 1               & 0               & 0               & ...             &  8              & 1680            &    0            & 1987            &    0            & 98074           & 47.6168         & -122.045        & 1800            &   7503         \\\\\n",
       "\t 7237550310      & 20140512T000000 & 1225000         & 4               & 4.50            & 5420            & 101930          & 1               & 0               & 0               & ...             & 11              & 3890            & 1530            & 2001            &    0            & 98053           & 47.6561         & -122.005        & 4760            & 101930         \\\\\n",
       "\\end{tabular}\n"
      ],
      "text/markdown": [
       "\n",
       "| id | date | price | bedrooms | bathrooms | sqft_living | sqft_lot | floors | waterfront | view | ... | grade | sqft_above | sqft_basement | yr_built | yr_renovated | zipcode | lat | long | sqft_living15 | sqft_lot15 |\n",
       "|---|---|---|---|---|---|---|---|---|---|---|---|---|---|---|---|---|---|---|---|---|\n",
       "| 7129300520      | 20141013T000000 |  221900         | 3               | 1.00            | 1180            |   5650          | 1               | 0               | 0               | ...             |  7              | 1180            |    0            | 1955            |    0            | 98178           | 47.5112         | -122.257        | 1340            |   5650          |\n",
       "| 6414100192      | 20141209T000000 |  538000         | 3               | 2.25            | 2570            |   7242          | 2               | 0               | 0               | ...             |  7              | 2170            |  400            | 1951            | 1991            | 98125           | 47.7210         | -122.319        | 1690            |   7639          |\n",
       "| 5631500400      | 20150225T000000 |  180000         | 2               | 1.00            |  770            |  10000          | 1               | 0               | 0               | ...             |  6              |  770            |    0            | 1933            |    0            | 98028           | 47.7379         | -122.233        | 2720            |   8062          |\n",
       "| 2487200875      | 20141209T000000 |  604000         | 4               | 3.00            | 1960            |   5000          | 1               | 0               | 0               | ...             |  7              | 1050            |  910            | 1965            |    0            | 98136           | 47.5208         | -122.393        | 1360            |   5000          |\n",
       "| 1954400510      | 20150218T000000 |  510000         | 3               | 2.00            | 1680            |   8080          | 1               | 0               | 0               | ...             |  8              | 1680            |    0            | 1987            |    0            | 98074           | 47.6168         | -122.045        | 1800            |   7503          |\n",
       "| 7237550310      | 20140512T000000 | 1225000         | 4               | 4.50            | 5420            | 101930          | 1               | 0               | 0               | ...             | 11              | 3890            | 1530            | 2001            |    0            | 98053           | 47.6561         | -122.005        | 4760            | 101930          |\n",
       "\n"
      ],
      "text/plain": [
       "  id         date            price   bedrooms bathrooms sqft_living sqft_lot\n",
       "1 7129300520 20141013T000000  221900 3        1.00      1180          5650  \n",
       "2 6414100192 20141209T000000  538000 3        2.25      2570          7242  \n",
       "3 5631500400 20150225T000000  180000 2        1.00       770         10000  \n",
       "4 2487200875 20141209T000000  604000 4        3.00      1960          5000  \n",
       "5 1954400510 20150218T000000  510000 3        2.00      1680          8080  \n",
       "6 7237550310 20140512T000000 1225000 4        4.50      5420        101930  \n",
       "  floors waterfront view ... grade sqft_above sqft_basement yr_built\n",
       "1 1      0          0    ...  7    1180          0          1955    \n",
       "2 2      0          0    ...  7    2170        400          1951    \n",
       "3 1      0          0    ...  6     770          0          1933    \n",
       "4 1      0          0    ...  7    1050        910          1965    \n",
       "5 1      0          0    ...  8    1680          0          1987    \n",
       "6 1      0          0    ... 11    3890       1530          2001    \n",
       "  yr_renovated zipcode lat     long     sqft_living15 sqft_lot15\n",
       "1    0         98178   47.5112 -122.257 1340            5650    \n",
       "2 1991         98125   47.7210 -122.319 1690            7639    \n",
       "3    0         98028   47.7379 -122.233 2720            8062    \n",
       "4    0         98136   47.5208 -122.393 1360            5000    \n",
       "5    0         98074   47.6168 -122.045 1800            7503    \n",
       "6    0         98053   47.6561 -122.005 4760          101930    "
      ]
     },
     "metadata": {},
     "output_type": "display_data"
    }
   ],
   "source": [
    "data <- read.csv(file = 'home_data.csv')\n",
    "head(data)"
   ]
  },
  {
   "cell_type": "code",
   "execution_count": 2,
   "id": "de483261",
   "metadata": {},
   "outputs": [
    {
     "name": "stdout",
     "output_type": "stream",
     "text": [
      "[1] \"Number of records:  21613\"\n",
      "[1] \"Number of features:  20\"\n"
     ]
    }
   ],
   "source": [
    "print(paste(\"Number of records: \", nrow(data)))\n",
    "print(paste(\"Number of features: \", ncol(data)-1)) #id is not a feature"
   ]
  },
  {
   "cell_type": "code",
   "execution_count": 3,
   "id": "27d48097",
   "metadata": {},
   "outputs": [
    {
     "name": "stdout",
     "output_type": "stream",
     "text": [
      "'data.frame':\t21613 obs. of  21 variables:\n",
      " $ id           : num  7.13e+09 6.41e+09 5.63e+09 2.49e+09 1.95e+09 ...\n",
      " $ date         : Factor w/ 372 levels \"20140502T000000\",..: 165 221 291 221 284 11 57 252 340 306 ...\n",
      " $ price        : int  221900 538000 180000 604000 510000 1225000 257500 291850 229500 323000 ...\n",
      " $ bedrooms     : int  3 3 2 4 3 4 3 3 3 3 ...\n",
      " $ bathrooms    : num  1 2.25 1 3 2 4.5 2.25 1.5 1 2.5 ...\n",
      " $ sqft_living  : int  1180 2570 770 1960 1680 5420 1715 1060 1780 1890 ...\n",
      " $ sqft_lot     : int  5650 7242 10000 5000 8080 101930 6819 9711 7470 6560 ...\n",
      " $ floors       : num  1 2 1 1 1 1 2 1 1 2 ...\n",
      " $ waterfront   : int  0 0 0 0 0 0 0 0 0 0 ...\n",
      " $ view         : int  0 0 0 0 0 0 0 0 0 0 ...\n",
      " $ condition    : int  3 3 3 5 3 3 3 3 3 3 ...\n",
      " $ grade        : int  7 7 6 7 8 11 7 7 7 7 ...\n",
      " $ sqft_above   : int  1180 2170 770 1050 1680 3890 1715 1060 1050 1890 ...\n",
      " $ sqft_basement: int  0 400 0 910 0 1530 0 0 730 0 ...\n",
      " $ yr_built     : int  1955 1951 1933 1965 1987 2001 1995 1963 1960 2003 ...\n",
      " $ yr_renovated : int  0 1991 0 0 0 0 0 0 0 0 ...\n",
      " $ zipcode      : int  98178 98125 98028 98136 98074 98053 98003 98198 98146 98038 ...\n",
      " $ lat          : num  47.5 47.7 47.7 47.5 47.6 ...\n",
      " $ long         : num  -122 -122 -122 -122 -122 ...\n",
      " $ sqft_living15: int  1340 1690 2720 1360 1800 4760 2238 1650 1780 2390 ...\n",
      " $ sqft_lot15   : int  5650 7639 8062 5000 7503 101930 6819 9711 8113 7570 ...\n"
     ]
    }
   ],
   "source": [
    "str(data)"
   ]
  },
  {
   "cell_type": "markdown",
   "id": "dd5573d4",
   "metadata": {},
   "source": [
    "### checking for null values"
   ]
  },
  {
   "cell_type": "code",
   "execution_count": 73,
   "id": "bd6aa8aa",
   "metadata": {},
   "outputs": [
    {
     "data": {
      "text/html": [
       "0"
      ],
      "text/latex": [
       "0"
      ],
      "text/markdown": [
       "0"
      ],
      "text/plain": [
       "[1] 0"
      ]
     },
     "metadata": {},
     "output_type": "display_data"
    }
   ],
   "source": [
    "sum(is.na(data))\n"
   ]
  },
  {
   "cell_type": "markdown",
   "id": "dc82d677",
   "metadata": {},
   "source": [
    "It looks like we don't have any NULL values, I'll assume nulled values were previously changed by the respective medians of each column."
   ]
  },
  {
   "cell_type": "code",
   "execution_count": 74,
   "id": "94671384",
   "metadata": {},
   "outputs": [
    {
     "data": {
      "text/plain": [
       "       id                         date           price            bedrooms     \n",
       " Min.   :1.000e+06   20140623T000000:  142   Min.   :  75000   Min.   : 0.000  \n",
       " 1st Qu.:2.123e+09   20140625T000000:  131   1st Qu.: 321950   1st Qu.: 3.000  \n",
       " Median :3.905e+09   20140626T000000:  131   Median : 450000   Median : 3.000  \n",
       " Mean   :4.580e+09   20140708T000000:  127   Mean   : 540088   Mean   : 3.371  \n",
       " 3rd Qu.:7.309e+09   20150427T000000:  126   3rd Qu.: 645000   3rd Qu.: 4.000  \n",
       " Max.   :9.900e+09   20150325T000000:  123   Max.   :7700000   Max.   :33.000  \n",
       "                     (Other)        :20833                                     \n",
       "   bathrooms      sqft_living       sqft_lot           floors     \n",
       " Min.   :0.000   Min.   :  290   Min.   :    520   Min.   :1.000  \n",
       " 1st Qu.:1.750   1st Qu.: 1427   1st Qu.:   5040   1st Qu.:1.000  \n",
       " Median :2.250   Median : 1910   Median :   7618   Median :1.500  \n",
       " Mean   :2.115   Mean   : 2080   Mean   :  15107   Mean   :1.494  \n",
       " 3rd Qu.:2.500   3rd Qu.: 2550   3rd Qu.:  10688   3rd Qu.:2.000  \n",
       " Max.   :8.000   Max.   :13540   Max.   :1651359   Max.   :3.500  \n",
       "                                                                  \n",
       "   waterfront            view          condition         grade       \n",
       " Min.   :0.000000   Min.   :0.0000   Min.   :1.000   Min.   : 1.000  \n",
       " 1st Qu.:0.000000   1st Qu.:0.0000   1st Qu.:3.000   1st Qu.: 7.000  \n",
       " Median :0.000000   Median :0.0000   Median :3.000   Median : 7.000  \n",
       " Mean   :0.007542   Mean   :0.2343   Mean   :3.409   Mean   : 7.657  \n",
       " 3rd Qu.:0.000000   3rd Qu.:0.0000   3rd Qu.:4.000   3rd Qu.: 8.000  \n",
       " Max.   :1.000000   Max.   :4.0000   Max.   :5.000   Max.   :13.000  \n",
       "                                                                     \n",
       "   sqft_above   sqft_basement       yr_built     yr_renovated   \n",
       " Min.   : 290   Min.   :   0.0   Min.   :1900   Min.   :   0.0  \n",
       " 1st Qu.:1190   1st Qu.:   0.0   1st Qu.:1951   1st Qu.:   0.0  \n",
       " Median :1560   Median :   0.0   Median :1975   Median :   0.0  \n",
       " Mean   :1788   Mean   : 291.5   Mean   :1971   Mean   :  84.4  \n",
       " 3rd Qu.:2210   3rd Qu.: 560.0   3rd Qu.:1997   3rd Qu.:   0.0  \n",
       " Max.   :9410   Max.   :4820.0   Max.   :2015   Max.   :2015.0  \n",
       "                                                                \n",
       "    zipcode           lat             long        sqft_living15 \n",
       " Min.   :98001   Min.   :47.16   Min.   :-122.5   Min.   : 399  \n",
       " 1st Qu.:98033   1st Qu.:47.47   1st Qu.:-122.3   1st Qu.:1490  \n",
       " Median :98065   Median :47.57   Median :-122.2   Median :1840  \n",
       " Mean   :98078   Mean   :47.56   Mean   :-122.2   Mean   :1987  \n",
       " 3rd Qu.:98118   3rd Qu.:47.68   3rd Qu.:-122.1   3rd Qu.:2360  \n",
       " Max.   :98199   Max.   :47.78   Max.   :-121.3   Max.   :6210  \n",
       "                                                                \n",
       "   sqft_lot15    \n",
       " Min.   :   651  \n",
       " 1st Qu.:  5100  \n",
       " Median :  7620  \n",
       " Mean   : 12768  \n",
       " 3rd Qu.: 10083  \n",
       " Max.   :871200  \n",
       "                 "
      ]
     },
     "metadata": {},
     "output_type": "display_data"
    }
   ],
   "source": [
    "summary(data)"
   ]
  },
  {
   "cell_type": "code",
   "execution_count": null,
   "id": "bc3c0c95",
   "metadata": {},
   "outputs": [],
   "source": [
    "# Draw a higtogram to figure out the distribution of SalePrice\n",
    "options(scipen=10000)\n",
    "ggplot(select_train, aes(x = SalePrice, fill = ..count..)) +\n",
    "  geom_histogram(binwidth = 5000) +\n",
    "  ggtitle(\"Figure 1 Histogram of SalePrice\") +\n",
    "  ylab(\"Count of houses\") +\n",
    "  xlab(\"Housing Price\") + \n",
    "  theme(plot.title = element_text(hjust = 0.5))"
   ]
  },
  {
   "cell_type": "markdown",
   "id": "f841c44b",
   "metadata": {},
   "source": [
    "## First Insights\n",
    "We notice:<br>\n",
    "-Most of our features are numerical.\n",
    "-that the variable \"sqft_lot\", \"sqft_basement\", \"yr_renovated\", \"sqft_lot15\" have a large difference between their median and mean which indicates lot of outliers in respective variables. <br>\n",
    "-we got work to do in yr_renovated , if the value is 0, it indicates that the house wasn't renovated, else, it gives us the year in which the house was renovated.<br>\n",
    "-We'll try to exctract more insights from the date column to see the range of years our data was collected at.<br>\n",
    "-latitude and longitude are around (47,-121)\n"
   ]
  },
  {
   "cell_type": "code",
   "execution_count": 23,
   "id": "09f95ed4",
   "metadata": {},
   "outputs": [
    {
     "data": {
      "image/png": "[encoded data removed]",
      "text/plain": [
       "plot without title"
      ]
     },
     "metadata": {},
     "output_type": "display_data"
    }
   ],
   "source": [
    "# Draw a higtogram to figure out the distribution of SalePrice\n",
    "options(scipen=10000)\n",
    "ggplot(data, aes(x = price, fill = ..count..)) +\n",
    "  geom_histogram(binwidth = 5000) +\n",
    "  ggtitle(\"Figure 1 Histogram of Price\") +\n",
    "  ylab(\"Count of houses\") +\n",
    "  xlab(\"Housing Price\") + \n",
    "  theme(plot.title = element_text(hjust = 0.5))"
   ]
  },
  {
   "cell_type": "markdown",
   "id": "f2bea96f",
   "metadata": {},
   "source": [
    "**comment:**<br>\n",
    "it looks like the value of the house prices are too skewed together, we need to apply log function to get a better distribution"
   ]
  },
  {
   "cell_type": "markdown",
   "id": "0e701049",
   "metadata": {},
   "source": [
    "# Feature Extraction\n"
   ]
  },
  {
   "cell_type": "markdown",
   "id": "0d9cfd25",
   "metadata": {},
   "source": [
    "### Extracting Year, Month, Day Columns"
   ]
  },
  {
   "cell_type": "code",
   "execution_count": 10,
   "id": "66cf4c5c",
   "metadata": {},
   "outputs": [],
   "source": [
    "data$date<-as.Date(data$date, \"%Y%m%d\")"
   ]
  },
  {
   "cell_type": "code",
   "execution_count": 11,
   "id": "56952807",
   "metadata": {},
   "outputs": [],
   "source": [
    "data<-separate(data, \"date\", c(\"Year\", \"Month\", \"Day\"), sep = \"-\")\n"
   ]
  },
  {
   "cell_type": "code",
   "execution_count": 12,
   "id": "c0db6736",
   "metadata": {},
   "outputs": [
    {
     "name": "stdout",
     "output_type": "stream",
     "text": [
      " int 2015\n",
      "[1] \"last year in the dataset\"\n",
      " int 2014\n",
      "[1] \"first year in the dataset\"\n"
     ]
    }
   ],
   "source": [
    "data$Year=as.integer(data$Year)\n",
    "data$Month=as.integer(data$Month)\n",
    "data$Day=as.integer(data$Day)\n",
    "\n",
    "print(\"last year in the dataset\",str(max(data$Year)))\n",
    "print(\"first year in the dataset\",str(min(data$Year)))"
   ]
  },
  {
   "cell_type": "code",
   "execution_count": 13,
   "id": "2a2d6dac",
   "metadata": {},
   "outputs": [],
   "source": [
    "#dropping the id and date columns\n",
    " df = data[,!(names(data) %in% c(\"id\",\"date\"))]"
   ]
  },
  {
   "cell_type": "markdown",
   "id": "4a3114c5",
   "metadata": {},
   "source": [
    "### Extracting House Age column"
   ]
  },
  {
   "cell_type": "code",
   "execution_count": 14,
   "id": "2866e502",
   "metadata": {},
   "outputs": [],
   "source": [
    "df$house_age <-2015 - df$yr_built"
   ]
  },
  {
   "cell_type": "markdown",
   "id": "809f3947",
   "metadata": {},
   "source": [
    "### Extracting sqft Difference "
   ]
  },
  {
   "cell_type": "code",
   "execution_count": 15,
   "id": "cc936b97",
   "metadata": {},
   "outputs": [],
   "source": [
    "df$sqft_difference <-df$sqft_lot15 - df$sqft_lot\n"
   ]
  },
  {
   "cell_type": "markdown",
   "id": "e90fd25c",
   "metadata": {},
   "source": [
    "### applying log on price"
   ]
  },
  {
   "cell_type": "code",
   "execution_count": 16,
   "id": "3af9df6b",
   "metadata": {},
   "outputs": [],
   "source": [
    "df$logPrice <- log(df$price)\n"
   ]
  },
  {
   "cell_type": "markdown",
   "id": "52bb00ee",
   "metadata": {},
   "source": [
    "## Examining Correlations\n",
    "Correlation is a statistical method that showcase the linear dependence between two features.<br> Its value range between -1 to +1\n",
    "\n",
    "If the dot is colored blue (correlation value = 1): it means positive correlation i.e. X is directly proportional to Y. <br>\n",
    "If he dot is colored red (correlation value = -1): it means negative correlation i.e. X is inversly proportional to Y.\n",
    "\n",
    "the intensity of the colors indicates the proportional correlation to the value (same case for both colors).<br>\n",
    "Which indicates that value =0 means non existent correlation.\n",
    "\n",
    "**As we can see:** <br>\n",
    "-longitude doesn't have a high correlation with the price.<br>\n",
    "-the zipcode is negatively correlated with the price. "
   ]
  },
  {
   "cell_type": "code",
   "execution_count": 81,
   "id": "f5808ef8",
   "metadata": {
    "scrolled": false
   },
   "outputs": [
    {
     "data": {
      "image/png": "[encoded data removed]",
      "text/plain": [
       "Plot with title \"\""
      ]
     },
     "metadata": {},
     "output_type": "display_data"
    }
   ],
   "source": [
    "corrplot(cor(df))\n"
   ]
  },
  {
   "cell_type": "markdown",
   "id": "3385cbf4",
   "metadata": {},
   "source": [
    "### Plotting  sqft_living, sqft_living15 in relation to Price \n"
   ]
  },
  {
   "cell_type": "code",
   "execution_count": 157,
   "id": "a615e24b",
   "metadata": {},
   "outputs": [
    {
     "data": {
      "image/png": "[encoded data removed]",
      "text/plain": [
       "plot without title"
      ]
     },
     "metadata": {},
     "output_type": "display_data"
    }
   ],
   "source": [
    "s1 <- ggplot(data= df, aes(x=sqft_living)) +\n",
    "        geom_density() + labs(x='Square feet living area')\n",
    "plot(s1)"
   ]
  },
  {
   "cell_type": "code",
   "execution_count": 159,
   "id": "7f5d548d",
   "metadata": {},
   "outputs": [
    {
     "name": "stderr",
     "output_type": "stream",
     "text": [
      "Warning message:\n",
      "\"Removed 7 rows containing non-finite values (stat_smooth).\"Warning message:\n",
      "\"Removed 7 rows containing missing values (geom_point).\""
     ]
    },
    {
     "data": {
      "image/png": "[encoded data removed]",
      "text/plain": [
       "plot without title"
      ]
     },
     "metadata": {},
     "output_type": "display_data"
    }
   ],
   "source": [
    " ggplot(df,aes(y=price,x=sqft_living15)) +\n",
    "       geom_point() + \n",
    "        xlim(0, 9000) +\n",
    "        ylim(0, 5000000) +\n",
    "        geom_smooth(formula = y ~ x,method=\"lm\")"
   ]
  },
  {
   "cell_type": "markdown",
   "id": "085dbc16",
   "metadata": {},
   "source": [
    "**Comment:**<br>it is almost the same\n",
    "Based on the correlation matrix, we've seen a high correlation between sqft_living and sqft_living15. there's probably an information redundancy. let's double check that"
   ]
  },
  {
   "cell_type": "code",
   "execution_count": 83,
   "id": "8a89ebf2",
   "metadata": {},
   "outputs": [
    {
     "data": {
      "image/png": "[encoded data removed]",
      "text/plain": [
       "Plot with title \"sqft_living vs sqft_living\""
      ]
     },
     "metadata": {},
     "output_type": "display_data"
    }
   ],
   "source": [
    "plot(x = df$sqft_living, y = df$sqft_living15,\n",
    "     xlab = \"sqft_living\",\n",
    "     ylab = \"sqft_living15\",\n",
    "     xlim = c(0, 3000), \n",
    "     ylim = c(0, 3000),\n",
    "     main = \"sqft_living vs sqft_living\"\n",
    ")"
   ]
  },
  {
   "cell_type": "code",
   "execution_count": 84,
   "id": "a7d9b5e9",
   "metadata": {},
   "outputs": [
    {
     "data": {
      "image/png": "[encoded data removed]",
      "text/plain": [
       "Plot with title \"the difference of sqft_living sqft_living\""
      ]
     },
     "metadata": {},
     "output_type": "display_data"
    }
   ],
   "source": [
    "plot(df$sqft_lot15 -df$sqft_lot ,\n",
    "     ylab = \"sqft_lot - sqft_lot15\",\n",
    "     main = \"the difference of sqft_living sqft_living\" )"
   ]
  },
  {
   "cell_type": "markdown",
   "id": "0c6a20d9",
   "metadata": {},
   "source": [
    "**Comment:**<br>\n",
    "we notice that we don't have much difference in values between **sqft_lot** and **sqft_lot15**, we could generate a new feature later out of this difference. after removing the outliers of course."
   ]
  },
  {
   "cell_type": "markdown",
   "id": "5f5bcf7a",
   "metadata": {},
   "source": [
    "### First Basic Linear Regression Model"
   ]
  },
  {
   "cell_type": "code",
   "execution_count": 17,
   "id": "9820e3eb",
   "metadata": {},
   "outputs": [],
   "source": [
    "\n",
    "# splitting data into train and test \n",
    "# 75% of the sample size\n",
    "smp_size <- floor(0.75 * nrow(df))\n",
    "\n",
    "set.seed(123)\n",
    "train_ind <- sample(seq_len(nrow(df)), size = smp_size)\n",
    "\n",
    "train <- df[train_ind, ]\n",
    "test <- df[-train_ind, ]"
   ]
  },
  {
   "cell_type": "code",
   "execution_count": 20,
   "id": "7266df45",
   "metadata": {},
   "outputs": [
    {
     "data": {
      "text/html": [
       "<ol class=list-inline>\n",
       "\t<li>'Year'</li>\n",
       "\t<li>'Month'</li>\n",
       "\t<li>'Day'</li>\n",
       "\t<li>'price'</li>\n",
       "\t<li>'bedrooms'</li>\n",
       "\t<li>'bathrooms'</li>\n",
       "\t<li>'sqft_living'</li>\n",
       "\t<li>'sqft_lot'</li>\n",
       "\t<li>'floors'</li>\n",
       "\t<li>'waterfront'</li>\n",
       "\t<li>'view'</li>\n",
       "\t<li>'condition'</li>\n",
       "\t<li>'grade'</li>\n",
       "\t<li>'sqft_above'</li>\n",
       "\t<li>'sqft_basement'</li>\n",
       "\t<li>'yr_built'</li>\n",
       "\t<li>'yr_renovated'</li>\n",
       "\t<li>'zipcode'</li>\n",
       "\t<li>'lat'</li>\n",
       "\t<li>'long'</li>\n",
       "\t<li>'sqft_living15'</li>\n",
       "\t<li>'sqft_lot15'</li>\n",
       "\t<li>'house_age'</li>\n",
       "\t<li>'sqft_difference'</li>\n",
       "\t<li>'logPrice'</li>\n",
       "</ol>\n"
      ],
      "text/latex": [
       "\\begin{enumerate*}\n",
       "\\item 'Year'\n",
       "\\item 'Month'\n",
       "\\item 'Day'\n",
       "\\item 'price'\n",
       "\\item 'bedrooms'\n",
       "\\item 'bathrooms'\n",
       "\\item 'sqft\\_living'\n",
       "\\item 'sqft\\_lot'\n",
       "\\item 'floors'\n",
       "\\item 'waterfront'\n",
       "\\item 'view'\n",
       "\\item 'condition'\n",
       "\\item 'grade'\n",
       "\\item 'sqft\\_above'\n",
       "\\item 'sqft\\_basement'\n",
       "\\item 'yr\\_built'\n",
       "\\item 'yr\\_renovated'\n",
       "\\item 'zipcode'\n",
       "\\item 'lat'\n",
       "\\item 'long'\n",
       "\\item 'sqft\\_living15'\n",
       "\\item 'sqft\\_lot15'\n",
       "\\item 'house\\_age'\n",
       "\\item 'sqft\\_difference'\n",
       "\\item 'logPrice'\n",
       "\\end{enumerate*}\n"
      ],
      "text/markdown": [
       "1. 'Year'\n",
       "2. 'Month'\n",
       "3. 'Day'\n",
       "4. 'price'\n",
       "5. 'bedrooms'\n",
       "6. 'bathrooms'\n",
       "7. 'sqft_living'\n",
       "8. 'sqft_lot'\n",
       "9. 'floors'\n",
       "10. 'waterfront'\n",
       "11. 'view'\n",
       "12. 'condition'\n",
       "13. 'grade'\n",
       "14. 'sqft_above'\n",
       "15. 'sqft_basement'\n",
       "16. 'yr_built'\n",
       "17. 'yr_renovated'\n",
       "18. 'zipcode'\n",
       "19. 'lat'\n",
       "20. 'long'\n",
       "21. 'sqft_living15'\n",
       "22. 'sqft_lot15'\n",
       "23. 'house_age'\n",
       "24. 'sqft_difference'\n",
       "25. 'logPrice'\n",
       "\n",
       "\n"
      ],
      "text/plain": [
       " [1] \"Year\"            \"Month\"           \"Day\"             \"price\"          \n",
       " [5] \"bedrooms\"        \"bathrooms\"       \"sqft_living\"     \"sqft_lot\"       \n",
       " [9] \"floors\"          \"waterfront\"      \"view\"            \"condition\"      \n",
       "[13] \"grade\"           \"sqft_above\"      \"sqft_basement\"   \"yr_built\"       \n",
       "[17] \"yr_renovated\"    \"zipcode\"         \"lat\"             \"long\"           \n",
       "[21] \"sqft_living15\"   \"sqft_lot15\"      \"house_age\"       \"sqft_difference\"\n",
       "[25] \"logPrice\"       "
      ]
     },
     "metadata": {},
     "output_type": "display_data"
    }
   ],
   "source": [
    "colnames(df)"
   ]
  },
  {
   "cell_type": "code",
   "execution_count": 21,
   "id": "09f60de3",
   "metadata": {},
   "outputs": [
    {
     "data": {
      "text/plain": [
       "\n",
       "Call:\n",
       "lm(formula = logPrice ~ Year + Month + Day + bedrooms + bathrooms + \n",
       "    sqft_living + sqft_lot + floors + waterfront + view + condition + \n",
       "    grade + sqft_above + sqft_basement + yr_built + yr_renovated + \n",
       "    zipcode + lat + long + sqft_living15 + sqft_lot15 + house_age + \n",
       "    sqft_difference, data = train)\n",
       "\n",
       "Residuals:\n",
       "     Min       1Q   Median       3Q      Max \n",
       "-1.71844 -0.15907  0.00312  0.15716  1.21947 \n",
       "\n",
       "Coefficients: (3 not defined because of singularities)\n",
       "                        Estimate       Std. Error t value             Pr(>|t|)\n",
       "(Intercept)     -130.73634001057   14.39300295274  -9.083 < 0.0000000000000002\n",
       "Year               0.06195804472    0.00680697501   9.102 < 0.0000000000000002\n",
       "Month              0.00148956216    0.00102275561   1.456             0.145296\n",
       "Day               -0.00057343251    0.00022900489  -2.504             0.012289\n",
       "bedrooms          -0.00947519892    0.00272416355  -3.478             0.000506\n",
       "bathrooms          0.07185984047    0.00470427360  15.275 < 0.0000000000000002\n",
       "sqft_living        0.00014480109    0.00000635995  22.768 < 0.0000000000000002\n",
       "sqft_lot           0.00000047184    0.00000007145   6.604 0.000000000041301171\n",
       "floors             0.07565407612    0.00521180560  14.516 < 0.0000000000000002\n",
       "waterfront         0.37465417290    0.02454202202  15.266 < 0.0000000000000002\n",
       "view               0.05775055107    0.00305437225  18.908 < 0.0000000000000002\n",
       "condition          0.06766697359    0.00339429470  19.936 < 0.0000000000000002\n",
       "grade              0.16044900846    0.00309964725  51.764 < 0.0000000000000002\n",
       "sqft_above        -0.00001717091    0.00000629681  -2.727             0.006400\n",
       "sqft_basement                 NA               NA      NA                   NA\n",
       "yr_built          -0.00342871074    0.00010427403 -32.882 < 0.0000000000000002\n",
       "yr_renovated       0.00003885030    0.00000527884   7.360 0.000000000000193272\n",
       "zipcode           -0.00063189192    0.00004750184 -13.302 < 0.0000000000000002\n",
       "lat                1.40105956827    0.01544146836  90.734 < 0.0000000000000002\n",
       "long              -0.15454779901    0.01894242656  -8.159 0.000000000000000363\n",
       "sqft_living15      0.00010292648    0.00000497034  20.708 < 0.0000000000000002\n",
       "sqft_lot15        -0.00000026052    0.00000010726  -2.429             0.015153\n",
       "house_age                     NA               NA      NA                   NA\n",
       "sqft_difference               NA               NA      NA                   NA\n",
       "                   \n",
       "(Intercept)     ***\n",
       "Year            ***\n",
       "Month              \n",
       "Day             *  \n",
       "bedrooms        ***\n",
       "bathrooms       ***\n",
       "sqft_living     ***\n",
       "sqft_lot        ***\n",
       "floors          ***\n",
       "waterfront      ***\n",
       "view            ***\n",
       "condition       ***\n",
       "grade           ***\n",
       "sqft_above      ** \n",
       "sqft_basement      \n",
       "yr_built        ***\n",
       "yr_renovated    ***\n",
       "zipcode         ***\n",
       "lat             ***\n",
       "long            ***\n",
       "sqft_living15   ***\n",
       "sqft_lot15      *  \n",
       "house_age          \n",
       "sqft_difference    \n",
       "---\n",
       "Signif. codes:  0 '***' 0.001 '**' 0.01 '*' 0.05 '.' 0.1 ' ' 1\n",
       "\n",
       "Residual standard error: 0.2505 on 16188 degrees of freedom\n",
       "Multiple R-squared:  0.7741,\tAdjusted R-squared:  0.7738 \n",
       "F-statistic:  2773 on 20 and 16188 DF,  p-value: < 0.00000000000000022\n"
      ]
     },
     "metadata": {},
     "output_type": "display_data"
    }
   ],
   "source": [
    "linearmodel = lm(logPrice~Year+Month+Day+bedrooms+bathrooms+sqft_living+sqft_lot+floors+waterfront+view+condition+grade+sqft_above+sqft_basement+yr_built+yr_renovated+zipcode+lat+long+sqft_living15+sqft_lot15+house_age+sqft_difference,\n",
    "                 data = train)\n",
    "summary(linearmodel)\n",
    "#Our key objective is to determine the variable(s) that would give best predictive model."
   ]
  },
  {
   "cell_type": "markdown",
   "id": "c72b86fe",
   "metadata": {},
   "source": [
    "Appearently we only have data ranging between 2014 and 2015, that explains why sqft_living and sqft_living15 are highly correlated. "
   ]
  },
  {
   "cell_type": "markdown",
   "id": "e09f9640",
   "metadata": {},
   "source": [
    "Variables 'sqft_lot', 'Day', 'Month' have very high Pr(>|t|) value and low significance, it makes sense that day and month aren't helping our model predictions. however we'll need to remove outliers from sqft_lot for better predictions.\n",
    "the house_age and sqft_difference turned out to be useless, so we'll drop them."
   ]
  },
  {
   "cell_type": "markdown",
   "id": "dec1a845",
   "metadata": {},
   "source": [
    "### Removing Outliers "
   ]
  },
  {
   "cell_type": "code",
   "execution_count": 113,
   "id": "9880613e",
   "metadata": {},
   "outputs": [
    {
     "data": {
      "image/png": "[encoded data removed]",
      "text/plain": [
       "Plot with title \"sqft_lot15\""
      ]
     },
     "metadata": {},
     "output_type": "display_data"
    },
    {
     "data": {
      "image/png": "[encoded data removed]",
      "text/plain": [
       "Plot with title \"sqft_living\""
      ]
     },
     "metadata": {},
     "output_type": "display_data"
    }
   ],
   "source": [
    "par(mfrow = c(1, 4))\n",
    "boxplot(df$sqft_lot, main='sqft_lot',col='Sky Blue')\n",
    "boxplot(df$sqft_basement, main='sqft_basement',col='Sky Blue')\n",
    "boxplot(df$yr_renovated, main='yr_renovated',col='Sky Blue')\n",
    "boxplot(df$sqft_lot15, main='sqft_lot15',col='Sky Blue')\n",
    "boxplot(df$sqft_living, main='sqft_living',col='Sky Blue')\n"
   ]
  },
  {
   "cell_type": "code",
   "execution_count": 38,
   "id": "be62159b",
   "metadata": {},
   "outputs": [
    {
     "name": "stderr",
     "output_type": "stream",
     "text": [
      "Your code contains a unicode char which cannot be displayed in your\n",
      "current locale and R will silently convert it to an escaped form when the\n",
      "R kernel executes this code. This can lead to subtle errors if you use\n",
      "such chars to do comparisons. For more information, please see\n",
      "https://github.com/IRkernel/repr/wiki/Problems-with-unicode-on-windows"
     ]
    }
   ],
   "source": [
    "#removing outliers from sqft_lot column using IQR method\n",
    "Q <- quantile(df$sqft_lot, probs=c(.25, .75), na.rm = FALSE)\n",
    "iqr <- IQR(df$sqft_lot)\n",
    "up <-  Q[2]+1.5*iqr # Upper Range  \n",
    "low<- Q[1]-1.5*iqr # Lower Range﻿\n",
    "df_without_outliers_sqft_lot<- subset(df, df$sqft_lot > (Q[1] - 1.5*iqr) & df$sqft_lot < (Q[2]+1.5*iqr))\n"
   ]
  },
  {
   "cell_type": "code",
   "execution_count": 39,
   "id": "62e554d7",
   "metadata": {},
   "outputs": [
    {
     "name": "stderr",
     "output_type": "stream",
     "text": [
      "Your code contains a unicode char which cannot be displayed in your\n",
      "current locale and R will silently convert it to an escaped form when the\n",
      "R kernel executes this code. This can lead to subtle errors if you use\n",
      "such chars to do comparisons. For more information, please see\n",
      "https://github.com/IRkernel/repr/wiki/Problems-with-unicode-on-windows"
     ]
    }
   ],
   "source": [
    "#removing outliers from sqft_lot15 column\n",
    "Q15 <- quantile(df$sqft_lot15, probs=c(.25, .75), na.rm = FALSE)\n",
    "outliers15<-boxplot(df_without_outliers_sqft_lot$sqft_lot15, plot=FALSE)$out\n",
    "iqr15 <- IQR(df_without_outliers_sqft_lot$sqft_lot15)\n",
    "up15<-  Q15[2]+1.5*iqr15 # Upper Range  \n",
    "low15<- Q15[1]-1.5*iqr15 # Lower Range﻿\n",
    "df_outlied<- subset(df_without_outliers_sqft_lot, df_without_outliers_sqft_lot$sqft_lot15 > (Q15[1] - 1.5*iqr15) & df_without_outliers_sqft_lot$sqft_lot15 < (Q15[2]+1.5*iqr15))\n"
   ]
  },
  {
   "cell_type": "code",
   "execution_count": 40,
   "id": "81869d58",
   "metadata": {
    "scrolled": true
   },
   "outputs": [
    {
     "data": {
      "text/html": [
       "<table>\n",
       "<thead><tr><th></th><th scope=col>Year</th><th scope=col>Month</th><th scope=col>Day</th><th scope=col>price</th><th scope=col>bedrooms</th><th scope=col>bathrooms</th><th scope=col>sqft_living</th><th scope=col>sqft_lot</th><th scope=col>floors</th><th scope=col>waterfront</th><th scope=col>...</th><th scope=col>yr_built</th><th scope=col>yr_renovated</th><th scope=col>zipcode</th><th scope=col>lat</th><th scope=col>long</th><th scope=col>sqft_living15</th><th scope=col>sqft_lot15</th><th scope=col>house_age</th><th scope=col>sqft_difference</th><th scope=col>logPrice</th></tr></thead>\n",
       "<tbody>\n",
       "\t<tr><th scope=row>1</th><td>2014    </td><td>10      </td><td>13      </td><td>221900  </td><td>3       </td><td>1.00    </td><td>1180    </td><td> 5650   </td><td>1       </td><td>0       </td><td>...     </td><td>1955    </td><td>   0    </td><td>98178   </td><td>47.5112 </td><td>-122.257</td><td>1340    </td><td>5650    </td><td>60      </td><td>    0   </td><td>12.30998</td></tr>\n",
       "\t<tr><th scope=row>2</th><td>2014    </td><td>12      </td><td> 9      </td><td>538000  </td><td>3       </td><td>2.25    </td><td>2570    </td><td> 7242   </td><td>2       </td><td>0       </td><td>...     </td><td>1951    </td><td>1991    </td><td>98125   </td><td>47.7210 </td><td>-122.319</td><td>1690    </td><td>7639    </td><td>64      </td><td>  397   </td><td>13.19561</td></tr>\n",
       "\t<tr><th scope=row>3</th><td>2015    </td><td> 2      </td><td>25      </td><td>180000  </td><td>2       </td><td>1.00    </td><td> 770    </td><td>10000   </td><td>1       </td><td>0       </td><td>...     </td><td>1933    </td><td>   0    </td><td>98028   </td><td>47.7379 </td><td>-122.233</td><td>2720    </td><td>8062    </td><td>82      </td><td>-1938   </td><td>12.10071</td></tr>\n",
       "\t<tr><th scope=row>4</th><td>2014    </td><td>12      </td><td> 9      </td><td>604000  </td><td>4       </td><td>3.00    </td><td>1960    </td><td> 5000   </td><td>1       </td><td>0       </td><td>...     </td><td>1965    </td><td>   0    </td><td>98136   </td><td>47.5208 </td><td>-122.393</td><td>1360    </td><td>5000    </td><td>50      </td><td>    0   </td><td>13.31133</td></tr>\n",
       "\t<tr><th scope=row>5</th><td>2015    </td><td> 2      </td><td>18      </td><td>510000  </td><td>3       </td><td>2.00    </td><td>1680    </td><td> 8080   </td><td>1       </td><td>0       </td><td>...     </td><td>1987    </td><td>   0    </td><td>98074   </td><td>47.6168 </td><td>-122.045</td><td>1800    </td><td>7503    </td><td>28      </td><td> -577   </td><td>13.14217</td></tr>\n",
       "\t<tr><th scope=row>7</th><td>2014    </td><td> 6      </td><td>27      </td><td>257500  </td><td>3       </td><td>2.25    </td><td>1715    </td><td> 6819   </td><td>2       </td><td>0       </td><td>...     </td><td>1995    </td><td>   0    </td><td>98003   </td><td>47.3097 </td><td>-122.327</td><td>2238    </td><td>6819    </td><td>20      </td><td>    0   </td><td>12.45877</td></tr>\n",
       "</tbody>\n",
       "</table>\n"
      ],
      "text/latex": [
       "\\begin{tabular}{r|lllllllllllllllllllllllll}\n",
       "  & Year & Month & Day & price & bedrooms & bathrooms & sqft\\_living & sqft\\_lot & floors & waterfront & ... & yr\\_built & yr\\_renovated & zipcode & lat & long & sqft\\_living15 & sqft\\_lot15 & house\\_age & sqft\\_difference & logPrice\\\\\n",
       "\\hline\n",
       "\t1 & 2014     & 10       & 13       & 221900   & 3        & 1.00     & 1180     &  5650    & 1        & 0        & ...      & 1955     &    0     & 98178    & 47.5112  & -122.257 & 1340     & 5650     & 60       &     0    & 12.30998\\\\\n",
       "\t2 & 2014     & 12       &  9       & 538000   & 3        & 2.25     & 2570     &  7242    & 2        & 0        & ...      & 1951     & 1991     & 98125    & 47.7210  & -122.319 & 1690     & 7639     & 64       &   397    & 13.19561\\\\\n",
       "\t3 & 2015     &  2       & 25       & 180000   & 2        & 1.00     &  770     & 10000    & 1        & 0        & ...      & 1933     &    0     & 98028    & 47.7379  & -122.233 & 2720     & 8062     & 82       & -1938    & 12.10071\\\\\n",
       "\t4 & 2014     & 12       &  9       & 604000   & 4        & 3.00     & 1960     &  5000    & 1        & 0        & ...      & 1965     &    0     & 98136    & 47.5208  & -122.393 & 1360     & 5000     & 50       &     0    & 13.31133\\\\\n",
       "\t5 & 2015     &  2       & 18       & 510000   & 3        & 2.00     & 1680     &  8080    & 1        & 0        & ...      & 1987     &    0     & 98074    & 47.6168  & -122.045 & 1800     & 7503     & 28       &  -577    & 13.14217\\\\\n",
       "\t7 & 2014     &  6       & 27       & 257500   & 3        & 2.25     & 1715     &  6819    & 2        & 0        & ...      & 1995     &    0     & 98003    & 47.3097  & -122.327 & 2238     & 6819     & 20       &     0    & 12.45877\\\\\n",
       "\\end{tabular}\n"
      ],
      "text/markdown": [
       "\n",
       "| <!--/--> | Year | Month | Day | price | bedrooms | bathrooms | sqft_living | sqft_lot | floors | waterfront | ... | yr_built | yr_renovated | zipcode | lat | long | sqft_living15 | sqft_lot15 | house_age | sqft_difference | logPrice |\n",
       "|---|---|---|---|---|---|---|---|---|---|---|---|---|---|---|---|---|---|---|---|---|---|\n",
       "| 1 | 2014     | 10       | 13       | 221900   | 3        | 1.00     | 1180     |  5650    | 1        | 0        | ...      | 1955     |    0     | 98178    | 47.5112  | -122.257 | 1340     | 5650     | 60       |     0    | 12.30998 |\n",
       "| 2 | 2014     | 12       |  9       | 538000   | 3        | 2.25     | 2570     |  7242    | 2        | 0        | ...      | 1951     | 1991     | 98125    | 47.7210  | -122.319 | 1690     | 7639     | 64       |   397    | 13.19561 |\n",
       "| 3 | 2015     |  2       | 25       | 180000   | 2        | 1.00     |  770     | 10000    | 1        | 0        | ...      | 1933     |    0     | 98028    | 47.7379  | -122.233 | 2720     | 8062     | 82       | -1938    | 12.10071 |\n",
       "| 4 | 2014     | 12       |  9       | 604000   | 4        | 3.00     | 1960     |  5000    | 1        | 0        | ...      | 1965     |    0     | 98136    | 47.5208  | -122.393 | 1360     | 5000     | 50       |     0    | 13.31133 |\n",
       "| 5 | 2015     |  2       | 18       | 510000   | 3        | 2.00     | 1680     |  8080    | 1        | 0        | ...      | 1987     |    0     | 98074    | 47.6168  | -122.045 | 1800     | 7503     | 28       |  -577    | 13.14217 |\n",
       "| 7 | 2014     |  6       | 27       | 257500   | 3        | 2.25     | 1715     |  6819    | 2        | 0        | ...      | 1995     |    0     | 98003    | 47.3097  | -122.327 | 2238     | 6819     | 20       |     0    | 12.45877 |\n",
       "\n"
      ],
      "text/plain": [
       "  Year Month Day price  bedrooms bathrooms sqft_living sqft_lot floors\n",
       "1 2014 10    13  221900 3        1.00      1180         5650    1     \n",
       "2 2014 12     9  538000 3        2.25      2570         7242    2     \n",
       "3 2015  2    25  180000 2        1.00       770        10000    1     \n",
       "4 2014 12     9  604000 4        3.00      1960         5000    1     \n",
       "5 2015  2    18  510000 3        2.00      1680         8080    1     \n",
       "7 2014  6    27  257500 3        2.25      1715         6819    2     \n",
       "  waterfront ... yr_built yr_renovated zipcode lat     long     sqft_living15\n",
       "1 0          ... 1955        0         98178   47.5112 -122.257 1340         \n",
       "2 0          ... 1951     1991         98125   47.7210 -122.319 1690         \n",
       "3 0          ... 1933        0         98028   47.7379 -122.233 2720         \n",
       "4 0          ... 1965        0         98136   47.5208 -122.393 1360         \n",
       "5 0          ... 1987        0         98074   47.6168 -122.045 1800         \n",
       "7 0          ... 1995        0         98003   47.3097 -122.327 2238         \n",
       "  sqft_lot15 house_age sqft_difference logPrice\n",
       "1 5650       60            0           12.30998\n",
       "2 7639       64          397           13.19561\n",
       "3 8062       82        -1938           12.10071\n",
       "4 5000       50            0           13.31133\n",
       "5 7503       28         -577           13.14217\n",
       "7 6819       20            0           12.45877"
      ]
     },
     "metadata": {},
     "output_type": "display_data"
    }
   ],
   "source": [
    "head(df_outlied)"
   ]
  },
  {
   "cell_type": "code",
   "execution_count": 117,
   "id": "29d431d8",
   "metadata": {},
   "outputs": [
    {
     "data": {
      "image/png": "[encoded data removed]",
      "text/plain": [
       "Plot with title \"sqft_lot\""
      ]
     },
     "metadata": {},
     "output_type": "display_data"
    },
    {
     "data": {
      "image/png": "[encoded data removed]",
      "text/plain": [
       "Plot with title \"sqft_lot15\""
      ]
     },
     "metadata": {},
     "output_type": "display_data"
    }
   ],
   "source": [
    "boxplot(df_outlied$sqft_lot, main='sqft_lot',col='Sky Blue')\n",
    "boxplot(df_outlied$sqft_lot15, main='sqft_lot15',col='Sky Blue')\n"
   ]
  },
  {
   "cell_type": "markdown",
   "id": "c1eb2b17",
   "metadata": {},
   "source": [
    "### Removing Bedrooms, sqft_living outliers"
   ]
  },
  {
   "cell_type": "code",
   "execution_count": 41,
   "id": "c0472901",
   "metadata": {},
   "outputs": [],
   "source": [
    "df_outlied<- subset(df_outlied, df_outlied$bedrooms < 15 & df_outlied$sqft_living <8000 )\n"
   ]
  },
  {
   "cell_type": "markdown",
   "id": "a262d603",
   "metadata": {},
   "source": [
    "### Removing views Outliers"
   ]
  },
  {
   "cell_type": "code",
   "execution_count": 46,
   "id": "476608fd",
   "metadata": {},
   "outputs": [],
   "source": [
    "df_outlied<- subset(df_outlied, df_outlied$view < 15 & df_outlied$sqft_living <8000 )\n"
   ]
  },
  {
   "cell_type": "markdown",
   "id": "22c3aaa2",
   "metadata": {},
   "source": [
    "While we'r eat it, let's drop the features with high p-values"
   ]
  },
  {
   "cell_type": "code",
   "execution_count": 62,
   "id": "aa8554f1",
   "metadata": {},
   "outputs": [
    {
     "data": {
      "text/html": [
       "<ol class=list-inline>\n",
       "\t<li>'Year'</li>\n",
       "\t<li>'bedrooms'</li>\n",
       "\t<li>'bathrooms'</li>\n",
       "\t<li>'sqft_living'</li>\n",
       "\t<li>'floors'</li>\n",
       "\t<li>'waterfront'</li>\n",
       "\t<li>'view'</li>\n",
       "\t<li>'condition'</li>\n",
       "\t<li>'grade'</li>\n",
       "\t<li>'yr_built'</li>\n",
       "\t<li>'yr_renovated'</li>\n",
       "\t<li>'zipcode'</li>\n",
       "\t<li>'lat'</li>\n",
       "\t<li>'long'</li>\n",
       "\t<li>'sqft_living15'</li>\n",
       "\t<li>'sqft_lot15'</li>\n",
       "\t<li>'logPrice'</li>\n",
       "</ol>\n"
      ],
      "text/latex": [
       "\\begin{enumerate*}\n",
       "\\item 'Year'\n",
       "\\item 'bedrooms'\n",
       "\\item 'bathrooms'\n",
       "\\item 'sqft\\_living'\n",
       "\\item 'floors'\n",
       "\\item 'waterfront'\n",
       "\\item 'view'\n",
       "\\item 'condition'\n",
       "\\item 'grade'\n",
       "\\item 'yr\\_built'\n",
       "\\item 'yr\\_renovated'\n",
       "\\item 'zipcode'\n",
       "\\item 'lat'\n",
       "\\item 'long'\n",
       "\\item 'sqft\\_living15'\n",
       "\\item 'sqft\\_lot15'\n",
       "\\item 'logPrice'\n",
       "\\end{enumerate*}\n"
      ],
      "text/markdown": [
       "1. 'Year'\n",
       "2. 'bedrooms'\n",
       "3. 'bathrooms'\n",
       "4. 'sqft_living'\n",
       "5. 'floors'\n",
       "6. 'waterfront'\n",
       "7. 'view'\n",
       "8. 'condition'\n",
       "9. 'grade'\n",
       "10. 'yr_built'\n",
       "11. 'yr_renovated'\n",
       "12. 'zipcode'\n",
       "13. 'lat'\n",
       "14. 'long'\n",
       "15. 'sqft_living15'\n",
       "16. 'sqft_lot15'\n",
       "17. 'logPrice'\n",
       "\n",
       "\n"
      ],
      "text/plain": [
       " [1] \"Year\"          \"bedrooms\"      \"bathrooms\"     \"sqft_living\"  \n",
       " [5] \"floors\"        \"waterfront\"    \"view\"          \"condition\"    \n",
       " [9] \"grade\"         \"yr_built\"      \"yr_renovated\"  \"zipcode\"      \n",
       "[13] \"lat\"           \"long\"          \"sqft_living15\" \"sqft_lot15\"   \n",
       "[17] \"logPrice\"     "
      ]
     },
     "metadata": {},
     "output_type": "display_data"
    }
   ],
   "source": [
    " df_outlied = df_outlied[,!(names(df_outlied) %in% c(\"sqft_lot\",\"Month\",\"Day\",\"sqft_difference\",\"house_age\",\"price\",\"sqft_basement\",\"sqft_above\"))]\n",
    "colnames(df_outlied)"
   ]
  },
  {
   "cell_type": "code",
   "execution_count": 63,
   "id": "2df0abd3",
   "metadata": {},
   "outputs": [
    {
     "data": {
      "text/html": [
       "<ol class=list-inline>\n",
       "\t<li>'Year'</li>\n",
       "\t<li>'bedrooms'</li>\n",
       "\t<li>'bathrooms'</li>\n",
       "\t<li>'sqft_living'</li>\n",
       "\t<li>'floors'</li>\n",
       "\t<li>'waterfront'</li>\n",
       "\t<li>'view'</li>\n",
       "\t<li>'condition'</li>\n",
       "\t<li>'grade'</li>\n",
       "\t<li>'yr_built'</li>\n",
       "\t<li>'yr_renovated'</li>\n",
       "\t<li>'zipcode'</li>\n",
       "\t<li>'lat'</li>\n",
       "\t<li>'long'</li>\n",
       "\t<li>'sqft_living15'</li>\n",
       "\t<li>'sqft_lot15'</li>\n",
       "\t<li>'logPrice'</li>\n",
       "</ol>\n"
      ],
      "text/latex": [
       "\\begin{enumerate*}\n",
       "\\item 'Year'\n",
       "\\item 'bedrooms'\n",
       "\\item 'bathrooms'\n",
       "\\item 'sqft\\_living'\n",
       "\\item 'floors'\n",
       "\\item 'waterfront'\n",
       "\\item 'view'\n",
       "\\item 'condition'\n",
       "\\item 'grade'\n",
       "\\item 'yr\\_built'\n",
       "\\item 'yr\\_renovated'\n",
       "\\item 'zipcode'\n",
       "\\item 'lat'\n",
       "\\item 'long'\n",
       "\\item 'sqft\\_living15'\n",
       "\\item 'sqft\\_lot15'\n",
       "\\item 'logPrice'\n",
       "\\end{enumerate*}\n"
      ],
      "text/markdown": [
       "1. 'Year'\n",
       "2. 'bedrooms'\n",
       "3. 'bathrooms'\n",
       "4. 'sqft_living'\n",
       "5. 'floors'\n",
       "6. 'waterfront'\n",
       "7. 'view'\n",
       "8. 'condition'\n",
       "9. 'grade'\n",
       "10. 'yr_built'\n",
       "11. 'yr_renovated'\n",
       "12. 'zipcode'\n",
       "13. 'lat'\n",
       "14. 'long'\n",
       "15. 'sqft_living15'\n",
       "16. 'sqft_lot15'\n",
       "17. 'logPrice'\n",
       "\n",
       "\n"
      ],
      "text/plain": [
       " [1] \"Year\"          \"bedrooms\"      \"bathrooms\"     \"sqft_living\"  \n",
       " [5] \"floors\"        \"waterfront\"    \"view\"          \"condition\"    \n",
       " [9] \"grade\"         \"yr_built\"      \"yr_renovated\"  \"zipcode\"      \n",
       "[13] \"lat\"           \"long\"          \"sqft_living15\" \"sqft_lot15\"   \n",
       "[17] \"logPrice\"     "
      ]
     },
     "metadata": {},
     "output_type": "display_data"
    }
   ],
   "source": [
    "colnames(df_outlied)"
   ]
  },
  {
   "cell_type": "markdown",
   "id": "c204ecca",
   "metadata": {},
   "source": [
    "## Second Model after dropping outliers and removing features with high p-value score"
   ]
  },
  {
   "cell_type": "code",
   "execution_count": 64,
   "id": "3ae21379",
   "metadata": {},
   "outputs": [],
   "source": [
    "# 75% of the sample size\n",
    "smp_size2 <- floor(0.75 * nrow(df_outlied))\n",
    "\n",
    "set.seed(123)\n",
    "train_ind2 <- sample(seq_len(nrow(df_outlied)), size = smp_size2)\n",
    "\n",
    "train_eliminated <- df_outlied[train_ind2, ]\n",
    "test_eliminated <- df_outlied[-train_ind2, ]"
   ]
  },
  {
   "cell_type": "code",
   "execution_count": 65,
   "id": "2c08294c",
   "metadata": {
    "scrolled": true
   },
   "outputs": [
    {
     "data": {
      "text/plain": [
       "\n",
       "Call:\n",
       "lm(formula = logPrice ~ ., data = train_eliminated)\n",
       "\n",
       "Residuals:\n",
       "     Min       1Q   Median       3Q      Max \n",
       "-1.48074 -0.14729  0.00439  0.14842  1.15917 \n",
       "\n",
       "Coefficients:\n",
       "                     Estimate      Std. Error t value             Pr(>|t|)    \n",
       "(Intercept)   -102.9682676986    9.7257433443 -10.587 < 0.0000000000000002 ***\n",
       "Year             0.0532458581    0.0043315996  12.292 < 0.0000000000000002 ***\n",
       "bedrooms        -0.0135173221    0.0029875714  -4.525       0.000006102878 ***\n",
       "bathrooms        0.0590454377    0.0048562172  12.159 < 0.0000000000000002 ***\n",
       "sqft_living      0.0001744931    0.0000054850  31.813 < 0.0000000000000002 ***\n",
       "floors           0.0241152040    0.0052354284   4.606       0.000004137766 ***\n",
       "waterfront       0.4296404656    0.0354052470  12.135 < 0.0000000000000002 ***\n",
       "view             0.0583392912    0.0033485361  17.422 < 0.0000000000000002 ***\n",
       "condition        0.0630704212    0.0034894448  18.075 < 0.0000000000000002 ***\n",
       "grade            0.1746413260    0.0032993784  52.932 < 0.0000000000000002 ***\n",
       "yr_built        -0.0035670200    0.0001055996 -33.779 < 0.0000000000000002 ***\n",
       "yr_renovated     0.0000354055    0.0000056773   6.236       0.000000000461 ***\n",
       "zipcode         -0.0006862556    0.0000489846 -14.010 < 0.0000000000000002 ***\n",
       "lat              1.4527478144    0.0160728900  90.385 < 0.0000000000000002 ***\n",
       "long            -0.0972688156    0.0205417815  -4.735       0.000002210073 ***\n",
       "sqft_living15    0.0001028264    0.0000055117  18.656 < 0.0000000000000002 ***\n",
       "sqft_lot15      -0.0000184226    0.0000008376 -21.993 < 0.0000000000000002 ***\n",
       "---\n",
       "Signif. codes:  0 '***' 0.001 '**' 0.01 '*' 0.05 '.' 0.1 ' ' 1\n",
       "\n",
       "Residual standard error: 0.2396 on 14068 degrees of freedom\n",
       "Multiple R-squared:  0.7754,\tAdjusted R-squared:  0.7751 \n",
       "F-statistic:  3035 on 16 and 14068 DF,  p-value: < 0.00000000000000022\n"
      ]
     },
     "metadata": {},
     "output_type": "display_data"
    }
   ],
   "source": [
    "lm_outlied = lm(logPrice~. ,\n",
    "                 data = train_eliminated)\n",
    "summary(lm_outlied)"
   ]
  },
  {
   "cell_type": "markdown",
   "id": "a2ff85b6",
   "metadata": {},
   "source": [
    "### Dropping features"
   ]
  },
  {
   "cell_type": "markdown",
   "id": "2bbb25ad",
   "metadata": {},
   "source": [
    "we'll drop features with less than 2e-16 as a Pr(>|t|) "
   ]
  },
  {
   "cell_type": "code",
   "execution_count": 56,
   "id": "6eb910ed",
   "metadata": {},
   "outputs": [
    {
     "data": {
      "text/html": [
       "<ol class=list-inline>\n",
       "\t<li>'Year'</li>\n",
       "\t<li>'bedrooms'</li>\n",
       "\t<li>'bathrooms'</li>\n",
       "\t<li>'sqft_living'</li>\n",
       "\t<li>'waterfront'</li>\n",
       "\t<li>'view'</li>\n",
       "\t<li>'grade'</li>\n",
       "\t<li>'lat'</li>\n",
       "\t<li>'sqft_lot15'</li>\n",
       "\t<li>'logPrice'</li>\n",
       "</ol>\n"
      ],
      "text/latex": [
       "\\begin{enumerate*}\n",
       "\\item 'Year'\n",
       "\\item 'bedrooms'\n",
       "\\item 'bathrooms'\n",
       "\\item 'sqft\\_living'\n",
       "\\item 'waterfront'\n",
       "\\item 'view'\n",
       "\\item 'grade'\n",
       "\\item 'lat'\n",
       "\\item 'sqft\\_lot15'\n",
       "\\item 'logPrice'\n",
       "\\end{enumerate*}\n"
      ],
      "text/markdown": [
       "1. 'Year'\n",
       "2. 'bedrooms'\n",
       "3. 'bathrooms'\n",
       "4. 'sqft_living'\n",
       "5. 'waterfront'\n",
       "6. 'view'\n",
       "7. 'grade'\n",
       "8. 'lat'\n",
       "9. 'sqft_lot15'\n",
       "10. 'logPrice'\n",
       "\n",
       "\n"
      ],
      "text/plain": [
       " [1] \"Year\"        \"bedrooms\"    \"bathrooms\"   \"sqft_living\" \"waterfront\" \n",
       " [6] \"view\"        \"grade\"       \"lat\"         \"sqft_lot15\"  \"logPrice\"   "
      ]
     },
     "metadata": {},
     "output_type": "display_data"
    }
   ],
   "source": [
    " df_dropped_f = df_outlied[,!(names(df_outlied) %in% c(\"yr_built\",\"zipcode\",\"long\",\"condition\",\"floors\",\"sqft_living15\",\"yr_renovated\",\"sqft_basement\",\"sqft_above\"))]\n",
    "colnames(df_dropped_f)"
   ]
  },
  {
   "cell_type": "code",
   "execution_count": 57,
   "id": "95519ae2",
   "metadata": {},
   "outputs": [
    {
     "data": {
      "image/png": "[encoded data removed]",
      "text/plain": [
       "Plot with title \"\""
      ]
     },
     "metadata": {},
     "output_type": "display_data"
    }
   ],
   "source": [
    "corrplot(cor(df_dropped_f))\n"
   ]
  },
  {
   "cell_type": "code",
   "execution_count": 59,
   "id": "2ae82fd5",
   "metadata": {},
   "outputs": [
    {
     "data": {
      "text/plain": [
       "\n",
       "Call:\n",
       "lm(formula = logPrice ~ ., data = train_dropped)\n",
       "\n",
       "Residuals:\n",
       "     Min       1Q   Median       3Q      Max \n",
       "-1.53847 -0.16346 -0.00591  0.15483  1.18369 \n",
       "\n",
       "Coefficients:\n",
       "                   Estimate      Std. Error t value             Pr(>|t|)    \n",
       "(Intercept) -148.6266388327    9.6424011078 -15.414 < 0.0000000000000002 ***\n",
       "Year           0.0426250890    0.0047591454   8.956 < 0.0000000000000002 ***\n",
       "bedrooms      -0.0027143452    0.0032655408  -0.831              0.40587    \n",
       "bathrooms     -0.0126568053    0.0047787235  -2.649              0.00809 ** \n",
       "sqft_living    0.0002512766    0.0000054488  46.116 < 0.0000000000000002 ***\n",
       "waterfront     0.4073843105    0.0388181322  10.495 < 0.0000000000000002 ***\n",
       "view           0.0876683470    0.0035518071  24.683 < 0.0000000000000002 ***\n",
       "grade          0.1525304153    0.0032341511  47.162 < 0.0000000000000002 ***\n",
       "lat            1.5607995686    0.0167413408  93.230 < 0.0000000000000002 ***\n",
       "sqft_lot15    -0.0000132364    0.0000007891 -16.775 < 0.0000000000000002 ***\n",
       "---\n",
       "Signif. codes:  0 '***' 0.001 '**' 0.01 '*' 0.05 '.' 0.1 ' ' 1\n",
       "\n",
       "Residual standard error: 0.2638 on 14075 degrees of freedom\n",
       "Multiple R-squared:  0.7276,\tAdjusted R-squared:  0.7274 \n",
       "F-statistic:  4176 on 9 and 14075 DF,  p-value: < 0.00000000000000022\n"
      ]
     },
     "metadata": {},
     "output_type": "display_data"
    }
   ],
   "source": [
    "# 75% of the sample size\n",
    "smp_size3 <- floor(0.75 * nrow(df_dropped_f))\n",
    "\n",
    "set.seed(123)\n",
    "train_ind3 <- sample(seq_len(nrow(df_dropped_f)), size = smp_size2)\n",
    "\n",
    "train_dropped <- df_dropped_f[train_ind3, ]\n",
    "test_dropped <- df_outlied[-train_ind3, ]\n",
    "lm_dropped = lm(logPrice~.,\n",
    "                 data = train_dropped)\n",
    "summary(lm_dropped)"
   ]
  },
  {
   "cell_type": "markdown",
   "id": "4549ae12",
   "metadata": {},
   "source": [
    "**comment**<br>\n",
    "even though we only kept the values with high correlation with price, we had a very bad prediction accuracy. "
   ]
  },
  {
   "cell_type": "markdown",
   "id": "5a26245a",
   "metadata": {},
   "source": [
    "## Using Ridge Regression"
   ]
  },
  {
   "cell_type": "code",
   "execution_count": 70,
   "id": "87c5ea53",
   "metadata": {},
   "outputs": [
    {
     "name": "stderr",
     "output_type": "stream",
     "text": [
      "Warning message:\n",
      "\"package 'glmnet' was built under R version 3.6.3\"Loading required package: Matrix\n",
      "\n",
      "Attaching package: 'Matrix'\n",
      "\n",
      "The following objects are masked from 'package:tidyr':\n",
      "\n",
      "    expand, pack, unpack\n",
      "\n",
      "Loaded glmnet 4.1-1\n"
     ]
    }
   ],
   "source": [
    "library(glmnet)"
   ]
  },
  {
   "cell_type": "code",
   "execution_count": 82,
   "id": "64a2a22e",
   "metadata": {},
   "outputs": [],
   "source": [
    "y<- df_outlied$logPrice\n",
    "\n",
    "x <- data.matrix(df_outlied[, c('Year', 'bedrooms' ,'bathrooms', 'sqft_living' ,'floors', 'waterfront', 'view' ,'condition', 'grade', 'yr_built' ,'yr_renovated' ,'zipcode', 'lat' ,'long' ,'sqft_living15' ,'sqft_lot15')])"
   ]
  },
  {
   "cell_type": "code",
   "execution_count": 84,
   "id": "1e9da104",
   "metadata": {},
   "outputs": [],
   "source": [
    "model <- glmnet(x, y, alpha = 0)\n"
   ]
  },
  {
   "cell_type": "code",
   "execution_count": 85,
   "id": "d4507e9d",
   "metadata": {},
   "outputs": [
    {
     "data": {
      "text/plain": [
       "          Length Class     Mode   \n",
       "a0         100   -none-    numeric\n",
       "beta      1600   dgCMatrix S4     \n",
       "df         100   -none-    numeric\n",
       "dim          2   -none-    numeric\n",
       "lambda     100   -none-    numeric\n",
       "dev.ratio  100   -none-    numeric\n",
       "nulldev      1   -none-    numeric\n",
       "npasses      1   -none-    numeric\n",
       "jerr         1   -none-    numeric\n",
       "offset       1   -none-    logical\n",
       "call         4   -none-    call   \n",
       "nobs         1   -none-    numeric"
      ]
     },
     "metadata": {},
     "output_type": "display_data"
    }
   ],
   "source": [
    "summary(model)"
   ]
  },
  {
   "cell_type": "code",
   "execution_count": 86,
   "id": "9a692f6d",
   "metadata": {},
   "outputs": [
    {
     "data": {
      "text/html": [
       "0.0339318019175129"
      ],
      "text/latex": [
       "0.0339318019175129"
      ],
      "text/markdown": [
       "0.0339318019175129"
      ],
      "text/plain": [
       "[1] 0.0339318"
      ]
     },
     "metadata": {},
     "output_type": "display_data"
    },
    {
     "data": {
      "image/png": "[encoded data removed]",
      "text/plain": [
       "plot without title"
      ]
     },
     "metadata": {},
     "output_type": "display_data"
    }
   ],
   "source": [
    "#perform k-fold cross-validation to find optimal lambda value\n",
    "cv_model <- cv.glmnet(x, y, alpha = 0)\n",
    "\n",
    "#find optimal lambda value that minimizes test MSE\n",
    "best_lambda <- cv_model$lambda.min\n",
    "best_lambda\n",
    "\n",
    "\n",
    "#produce plot of test MSE by lambda value\n",
    "plot(cv_model) "
   ]
  },
  {
   "cell_type": "code",
   "execution_count": 87,
   "id": "312131e6",
   "metadata": {},
   "outputs": [
    {
     "data": {
      "text/plain": [
       "17 x 1 sparse Matrix of class \"dgCMatrix\"\n",
       "                            s0\n",
       "(Intercept)   -104.44344690215\n",
       "Year             0.04725457667\n",
       "bedrooms        -0.00670461721\n",
       "bathrooms        0.06159466217\n",
       "sqft_living      0.00016064591\n",
       "floors           0.03310329001\n",
       "waterfront       0.41522558107\n",
       "view             0.06094890637\n",
       "condition        0.06481700376\n",
       "grade            0.15486501958\n",
       "yr_built        -0.00311770245\n",
       "yr_renovated     0.00004094543\n",
       "zipcode         -0.00052868707\n",
       "lat              1.38396385839\n",
       "long            -0.10178822330\n",
       "sqft_living15    0.00011904432\n",
       "sqft_lot15      -0.00001567887"
      ]
     },
     "metadata": {},
     "output_type": "display_data"
    }
   ],
   "source": [
    "#coefficients of best model\n",
    "best_model <- glmnet(x, y, alpha = 0, lambda = best_lambda)\n",
    "coef(best_model)"
   ]
  },
  {
   "cell_type": "code",
   "execution_count": 88,
   "id": "42a26e9b",
   "metadata": {},
   "outputs": [
    {
     "data": {
      "image/png": "[encoded data removed]",
      "text/plain": [
       "plot without title"
      ]
     },
     "metadata": {},
     "output_type": "display_data"
    }
   ],
   "source": [
    "# a plot of different coefficient of Ridge \n",
    "plot(model, xvar = \"lambda\")"
   ]
  },
  {
   "cell_type": "code",
   "execution_count": 89,
   "id": "c0b72210",
   "metadata": {},
   "outputs": [
    {
     "data": {
      "text/html": [
       "0.77248637465845"
      ],
      "text/latex": [
       "0.77248637465845"
      ],
      "text/markdown": [
       "0.77248637465845"
      ],
      "text/plain": [
       "[1] 0.7724864"
      ]
     },
     "metadata": {},
     "output_type": "display_data"
    }
   ],
   "source": [
    "#use fitted best model to make predictions\n",
    "y_predicted <- predict(model, s = best_lambda, newx = x)\n",
    "\n",
    "#find SST and SSE\n",
    "sst <- sum((y - mean(y))^2)\n",
    "sse <- sum((y_predicted - y)^2)\n",
    "\n",
    "#find R-Squared\n",
    "rsq <- 1 - sse/sst\n",
    "rsq"
   ]
  },
  {
   "cell_type": "markdown",
   "id": "72f5f216",
   "metadata": {},
   "source": [
    "### Using Lasso Regression"
   ]
  },
  {
   "cell_type": "code",
   "execution_count": 99,
   "id": "4c4d2f6a",
   "metadata": {},
   "outputs": [
    {
     "data": {
      "text/html": [
       "0.000666095063085092"
      ],
      "text/latex": [
       "0.000666095063085092"
      ],
      "text/markdown": [
       "0.000666095063085092"
      ],
      "text/plain": [
       "[1] 0.0006660951"
      ]
     },
     "metadata": {},
     "output_type": "display_data"
    },
    {
     "data": {
      "image/png": "[encoded data removed]",
      "text/plain": [
       "plot without title"
      ]
     },
     "metadata": {},
     "output_type": "display_data"
    }
   ],
   "source": [
    "\n",
    "#perform k-fold cross-validation to find optimal lambda value\n",
    "cv_model <- cv.glmnet(x, y, alpha =1)\n",
    "\n",
    "#find optimal lambda value that minimizes test MSE\n",
    "best_lambda <- cv_model$lambda.min\n",
    "best_lambda\n",
    "\n",
    "\n",
    "\n",
    "#produce plot of test MSE by lambda value\n",
    "plot(cv_model) "
   ]
  },
  {
   "cell_type": "code",
   "execution_count": 100,
   "id": "c8a5ca98",
   "metadata": {},
   "outputs": [
    {
     "data": {
      "text/plain": [
       "17 x 1 sparse Matrix of class \"dgCMatrix\"\n",
       "                           s0\n",
       "(Intercept)   -98.79357860378\n",
       "Year            0.05075057088\n",
       "bedrooms       -0.01284791915\n",
       "bathrooms       0.05563681482\n",
       "sqft_living     0.00017756262\n",
       "floors          0.02606270432\n",
       "waterfront      0.43187790563\n",
       "view            0.05859199233\n",
       "condition       0.06428657175\n",
       "grade           0.17056690919\n",
       "yr_built       -0.00353663490\n",
       "yr_renovated    0.00003392038\n",
       "zipcode        -0.00065653461\n",
       "lat             1.45372793624\n",
       "long           -0.07961424114\n",
       "sqft_living15   0.00010577975\n",
       "sqft_lot15     -0.00001790522"
      ]
     },
     "metadata": {},
     "output_type": "display_data"
    }
   ],
   "source": [
    "best_model <- glmnet(x, y, alpha = 1, lambda = best_lambda)\n",
    "coef(best_model)"
   ]
  },
  {
   "cell_type": "code",
   "execution_count": 101,
   "id": "b87c421d",
   "metadata": {},
   "outputs": [
    {
     "data": {
      "text/html": [
       "0.774504557759139"
      ],
      "text/latex": [
       "0.774504557759139"
      ],
      "text/markdown": [
       "0.774504557759139"
      ],
      "text/plain": [
       "[1] 0.7745046"
      ]
     },
     "metadata": {},
     "output_type": "display_data"
    }
   ],
   "source": [
    "y_predicted <- predict(best_model, s = best_lambda, newx = x)\n",
    "\n",
    "#find SST and SSE\n",
    "sst <- sum((y - mean(y))^2)\n",
    "sse <- sum((y_predicted - y)^2)\n",
    "\n",
    "#find R-Squared\n",
    "rsq <- 1 - sse/sst\n",
    "rsq"
   ]
  },
  {
   "cell_type": "markdown",
   "id": "2edbe4ea",
   "metadata": {},
   "source": [
    "# Accuracy Results:\n",
    "**basic Linear Model:**                                           R-squared:  0.7741 <br>\n",
    "\n",
    "**Linear Model after dropping outliers:**                         R-squared:  0.7754<br>\n",
    "\n",
    "**Linear Model after dropping features with high p-value score:** R-squared:  0.7276<br>\n",
    "\n",
    "**Ridge Regression Model:**                                       MAE: 0.7724<br>\n",
    "\n",
    "**Lasso Regression Model:**                                       MAE: 0.7745<br>"
   ]
  },
  {
   "cell_type": "code",
   "execution_count": null,
   "id": "6ed22d5e",
   "metadata": {},
   "outputs": [],
   "source": []
  }
 ],
 "metadata": {
  "kernelspec": {
   "display_name": "R",
   "language": "R",
   "name": "ir"
  },
  "language_info": {
   "codemirror_mode": "r",
   "file_extension": ".r",
   "mimetype": "text/x-r-source",
   "name": "R",
   "pygments_lexer": "r",
   "version": "3.6.1"
  },
  "latex_envs": {
   "LaTeX_envs_menu_present": true,
   "autoclose": false,
   "autocomplete": true,
   "bibliofile": "biblio.bib",
   "cite_by": "apalike",
   "current_citInitial": 1,
   "eqLabelWithNumbers": true,
   "eqNumInitial": 1,
   "hotkeys": {
    "equation": "Ctrl-E",
    "itemize": "Ctrl-I"
   },
   "labels_anchors": false,
   "latex_user_defs": false,
   "report_style_numbering": false,
   "user_envs_cfg": false
  }
 },
 "nbformat": 4,
 "nbformat_minor": 5
}
